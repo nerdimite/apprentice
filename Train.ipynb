{
 "cells": [
  {
   "cell_type": "markdown",
   "metadata": {},
   "source": [
    "# Training the Model\n",
    "This notebook is used to train and build the sentence similarity model using Tensorflow 2.0"
   ]
  },
  {
   "cell_type": "code",
   "execution_count": 34,
   "metadata": {},
   "outputs": [],
   "source": [
    "import tensorflow as tf\n",
    "import tensorflow_hub as hub\n",
    "\n",
    "import numpy as np\n",
    "import pandas as pd\n",
    "import os\n",
    "\n",
    "import datetime\n",
    "from tqdm.notebook import tqdm\n",
    "\n",
    "import matplotlib.pyplot as plt\n",
    "%matplotlib inline"
   ]
  },
  {
   "cell_type": "markdown",
   "metadata": {},
   "source": [
    "## Gathering Data\n",
    "Here we gather the quora_question_pairs dataset and do a little bit of preprocessing"
   ]
  },
  {
   "cell_type": "code",
   "execution_count": 3,
   "metadata": {},
   "outputs": [],
   "source": [
    "# read the dataset\n",
    "dataset = pd.read_csv('quora_duplicate_questions.tsv', delimiter='\\t')"
   ]
  },
  {
   "cell_type": "code",
   "execution_count": 4,
   "metadata": {},
   "outputs": [],
   "source": [
    "# drop the NA rows\n",
    "dataset.dropna(subset = [\"question1\", \"question2\", \"is_duplicate\"], inplace=True)"
   ]
  },
  {
   "cell_type": "code",
   "execution_count": 23,
   "metadata": {},
   "outputs": [
    {
     "data": {
      "image/png": "[encoded data removed]",
      "text/plain": [
       "<Figure size 432x288 with 1 Axes>"
      ]
     },
     "metadata": {
      "needs_background": "light"
     },
     "output_type": "display_data"
    }
   ],
   "source": [
    "# Plotting the dataset as a bar chart\n",
    "\n",
    "height = [len(dataset[dataset['is_duplicate'] == 1]), len(dataset[dataset['is_duplicate'] == 0])] \n",
    "tick_label = ['Duplicate', 'Not Duplicate']  \n",
    "pos = [1, 2]\n",
    "plt.bar(pos, height, tick_label = tick_label, \n",
    "        width = 0.8, color = ['green', 'orange']) \n",
    "\n",
    "plt.xlabel('Classes')\n",
    "plt.ylabel('Number of samples')\n",
    "plt.title('Quora Question Pairs') \n",
    " \n",
    "plt.show() "
   ]
  },
  {
   "cell_type": "code",
   "execution_count": 22,
   "metadata": {
    "scrolled": true
   },
   "outputs": [],
   "source": [
    "# get the samples with target ones and zeroes and balancing the dataset by pruning the samples with zeroes\n",
    "zeroes = dataset[dataset['is_duplicate'] == 0].sample(149263, random_state=72)\n",
    "ones = dataset[dataset['is_duplicate'] == 1]"
   ]
  },
  {
   "cell_type": "code",
   "execution_count": 5,
   "metadata": {
    "scrolled": true
   },
   "outputs": [
    {
     "data": {
      "text/html": [
       "<div>\n",
       "<style scoped>\n",
       "    .dataframe tbody tr th:only-of-type {\n",
       "        vertical-align: middle;\n",
       "    }\n",
       "\n",
       "    .dataframe tbody tr th {\n",
       "        vertical-align: top;\n",
       "    }\n",
       "\n",
       "    .dataframe thead th {\n",
       "        text-align: right;\n",
       "    }\n",
       "</style>\n",
       "<table border=\"1\" class=\"dataframe\">\n",
       "  <thead>\n",
       "    <tr style=\"text-align: right;\">\n",
       "      <th></th>\n",
       "      <th>id</th>\n",
       "      <th>qid1</th>\n",
       "      <th>qid2</th>\n",
       "      <th>question1</th>\n",
       "      <th>question2</th>\n",
       "      <th>is_duplicate</th>\n",
       "    </tr>\n",
       "  </thead>\n",
       "  <tbody>\n",
       "    <tr>\n",
       "      <th>298210</th>\n",
       "      <td>403311</td>\n",
       "      <td>536881</td>\n",
       "      <td>536882</td>\n",
       "      <td>What is partial factor of safety?</td>\n",
       "      <td>What are partial safety factors?</td>\n",
       "      <td>1</td>\n",
       "    </tr>\n",
       "    <tr>\n",
       "      <th>289328</th>\n",
       "      <td>377401</td>\n",
       "      <td>508693</td>\n",
       "      <td>67258</td>\n",
       "      <td>Is there a permanent remedial for chronic asthma?</td>\n",
       "      <td>Where can I find a permanent treatment for ast...</td>\n",
       "      <td>1</td>\n",
       "    </tr>\n",
       "    <tr>\n",
       "      <th>87567</th>\n",
       "      <td>81812</td>\n",
       "      <td>138845</td>\n",
       "      <td>138846</td>\n",
       "      <td>How is Satyabama university, Chennai for B.Tec...</td>\n",
       "      <td>Which is better, a BSC or B.Tech in biotechnol...</td>\n",
       "      <td>0</td>\n",
       "    </tr>\n",
       "    <tr>\n",
       "      <th>29482</th>\n",
       "      <td>309929</td>\n",
       "      <td>247824</td>\n",
       "      <td>167878</td>\n",
       "      <td>How can I write an article for children?</td>\n",
       "      <td>What is the easiest way to write an article?</td>\n",
       "      <td>0</td>\n",
       "    </tr>\n",
       "    <tr>\n",
       "      <th>255446</th>\n",
       "      <td>285770</td>\n",
       "      <td>184478</td>\n",
       "      <td>163317</td>\n",
       "      <td>Who is the super master astrologer?</td>\n",
       "      <td>Who is the real super astrologer?</td>\n",
       "      <td>1</td>\n",
       "    </tr>\n",
       "    <tr>\n",
       "      <th>...</th>\n",
       "      <td>...</td>\n",
       "      <td>...</td>\n",
       "      <td>...</td>\n",
       "      <td>...</td>\n",
       "      <td>...</td>\n",
       "      <td>...</td>\n",
       "    </tr>\n",
       "    <tr>\n",
       "      <th>113871</th>\n",
       "      <td>157984</td>\n",
       "      <td>246884</td>\n",
       "      <td>751</td>\n",
       "      <td>What is the best courses for an MS in Germany ...</td>\n",
       "      <td>Which are the best universities in Germany for...</td>\n",
       "      <td>0</td>\n",
       "    </tr>\n",
       "    <tr>\n",
       "      <th>199493</th>\n",
       "      <td>134905</td>\n",
       "      <td>179672</td>\n",
       "      <td>119942</td>\n",
       "      <td>What company provides the best SEO services in...</td>\n",
       "      <td>Which is the best SEO services company in India?</td>\n",
       "      <td>1</td>\n",
       "    </tr>\n",
       "    <tr>\n",
       "      <th>216933</th>\n",
       "      <td>181955</td>\n",
       "      <td>278612</td>\n",
       "      <td>278613</td>\n",
       "      <td>What is the best way to make our parents feel ...</td>\n",
       "      <td>How can I make my parents proud?</td>\n",
       "      <td>1</td>\n",
       "    </tr>\n",
       "    <tr>\n",
       "      <th>70702</th>\n",
       "      <td>99575</td>\n",
       "      <td>165290</td>\n",
       "      <td>165291</td>\n",
       "      <td>What is the difference between, Vadakalai and ...</td>\n",
       "      <td>What's the difference between Eastern Orthodox...</td>\n",
       "      <td>0</td>\n",
       "    </tr>\n",
       "    <tr>\n",
       "      <th>209368</th>\n",
       "      <td>161431</td>\n",
       "      <td>122765</td>\n",
       "      <td>15864</td>\n",
       "      <td>Which American restaurant chains can be found ...</td>\n",
       "      <td>What American restaurant chains are found in N...</td>\n",
       "      <td>1</td>\n",
       "    </tr>\n",
       "  </tbody>\n",
       "</table>\n",
       "<p>298526 rows × 6 columns</p>\n",
       "</div>"
      ],
      "text/plain": [
       "            id    qid1    qid2  \\\n",
       "298210  403311  536881  536882   \n",
       "289328  377401  508693   67258   \n",
       "87567    81812  138845  138846   \n",
       "29482   309929  247824  167878   \n",
       "255446  285770  184478  163317   \n",
       "...        ...     ...     ...   \n",
       "113871  157984  246884     751   \n",
       "199493  134905  179672  119942   \n",
       "216933  181955  278612  278613   \n",
       "70702    99575  165290  165291   \n",
       "209368  161431  122765   15864   \n",
       "\n",
       "                                                question1  \\\n",
       "298210                  What is partial factor of safety?   \n",
       "289328  Is there a permanent remedial for chronic asthma?   \n",
       "87567   How is Satyabama university, Chennai for B.Tec...   \n",
       "29482            How can I write an article for children?   \n",
       "255446                Who is the super master astrologer?   \n",
       "...                                                   ...   \n",
       "113871  What is the best courses for an MS in Germany ...   \n",
       "199493  What company provides the best SEO services in...   \n",
       "216933  What is the best way to make our parents feel ...   \n",
       "70702   What is the difference between, Vadakalai and ...   \n",
       "209368  Which American restaurant chains can be found ...   \n",
       "\n",
       "                                                question2  is_duplicate  \n",
       "298210                   What are partial safety factors?             1  \n",
       "289328  Where can I find a permanent treatment for ast...             1  \n",
       "87567   Which is better, a BSC or B.Tech in biotechnol...             0  \n",
       "29482        What is the easiest way to write an article?             0  \n",
       "255446                  Who is the real super astrologer?             1  \n",
       "...                                                   ...           ...  \n",
       "113871  Which are the best universities in Germany for...             0  \n",
       "199493   Which is the best SEO services company in India?             1  \n",
       "216933                   How can I make my parents proud?             1  \n",
       "70702   What's the difference between Eastern Orthodox...             0  \n",
       "209368  What American restaurant chains are found in N...             1  \n",
       "\n",
       "[298526 rows x 6 columns]"
      ]
     },
     "execution_count": 5,
     "metadata": {},
     "output_type": "execute_result"
    }
   ],
   "source": [
    "# getting the balanced dataset\n",
    "balanced_data = pd.concat([zeroes, ones], ignore_index=True).sample(frac=1, random_state=72)\n",
    "balanced_data"
   ]
  },
  {
   "cell_type": "code",
   "execution_count": 6,
   "metadata": {},
   "outputs": [],
   "source": [
    "# get the X (question1 and question2) and y (is_duplicate)\n",
    "X = balanced_data.iloc[:,3:5].values\n",
    "y = balanced_data.iloc[:, 5].values"
   ]
  },
  {
   "cell_type": "code",
   "execution_count": 33,
   "metadata": {},
   "outputs": [],
   "source": [
    "from sklearn.model_selection import train_test_split"
   ]
  },
  {
   "cell_type": "code",
   "execution_count": 7,
   "metadata": {},
   "outputs": [],
   "source": [
    "# split data into training, validation and testing\n",
    "X_train, X_val_test, y_train, y_val_test = train_test_split(X, y, test_size=0.33)\n",
    "X_val, X_test, y_val, y_test = train_test_split(X, y, test_size=0.7)"
   ]
  },
  {
   "cell_type": "markdown",
   "metadata": {},
   "source": [
    "## Feature Engineering\n",
    "To convert the text pairs into suitable embeddings for the neural network, the pretrained Universal Sentence Encoder is used to get fixed length embeddings of the text"
   ]
  },
  {
   "cell_type": "code",
   "execution_count": 38,
   "metadata": {},
   "outputs": [
    {
     "name": "stdout",
     "output_type": "stream",
     "text": [
      "Loading from Local Directory...\n",
      "Done\n"
     ]
    }
   ],
   "source": [
    "# load the Universal Sentence Encoder from tensorflow hub\n",
    "if os.path.isdir('4'):\n",
    "    print('Loading from Local Directory...')\n",
    "    encoder = hub.load('4')\n",
    "    print('Done')\n",
    "else:\n",
    "    print('Downloading model...')\n",
    "    encoder = hub.load('https://tfhub.dev/google/universal-sentence-encoder/4')\n",
    "    print('Done')"
   ]
  },
  {
   "cell_type": "code",
   "execution_count": 11,
   "metadata": {},
   "outputs": [],
   "source": [
    "def encode(dataset):\n",
    "    \"\"\"Returns the encoded array of the text dataset\n",
    "    Args:\n",
    "        dataset (array): the array containing the pairs of sentences\n",
    "\n",
    "    Returns:\n",
    "        encoded (numpy array): the numpy array containing the encoded text\n",
    "    \"\"\"\n",
    "    encoded = []\n",
    "    for x in tqdm(dataset):\n",
    "        try:\n",
    "            enc = encoder(x).numpy()\n",
    "            encoded.append([enc])\n",
    "        except:\n",
    "            pass\n",
    "    return np.concatenate(encoded)"
   ]
  },
  {
   "cell_type": "code",
   "execution_count": null,
   "metadata": {
    "scrolled": true
   },
   "outputs": [],
   "source": [
    "# Encode the data\n",
    "X_train_enc = encode(X_train)"
   ]
  },
  {
   "cell_type": "code",
   "execution_count": null,
   "metadata": {},
   "outputs": [],
   "source": [
    "X_val_enc = encode(X_val)"
   ]
  },
  {
   "cell_type": "code",
   "execution_count": null,
   "metadata": {},
   "outputs": [],
   "source": [
    "X_test_enc = encode(X_test)"
   ]
  },
  {
   "cell_type": "code",
   "execution_count": 15,
   "metadata": {},
   "outputs": [],
   "source": [
    "# Save the numpy arrays to .npy files as encoding all the text data takes more than one hour\n",
    "\n",
    "# np.save('data/X_train_enc', X_train_enc)\n",
    "# np.save('data/X_test_enc', X_test_enc)\n",
    "# np.save('data/X_val_enc', X_val_enc)\n",
    "\n",
    "# np.save('data/y_train', y_train)\n",
    "# np.save('data/y_test', y_test)\n",
    "# np.save('data/y_val', y_val)"
   ]
  },
  {
   "cell_type": "code",
   "execution_count": 16,
   "metadata": {},
   "outputs": [],
   "source": [
    "# load the saved numpy arrays\n",
    "\n",
    "X_train_enc = np.load('data/X_train_enc.npy')\n",
    "X_test_enc = np.load('data/X_test_enc.npy')\n",
    "X_val_enc = np.load('data/X_val_enc.npy')\n",
    "\n",
    "y_train = np.load('data/y_train.npy')\n",
    "y_val = np.load('data/y_val.npy')\n",
    "y_test = np.load('data/y_test.npy')"
   ]
  },
  {
   "cell_type": "markdown",
   "metadata": {},
   "source": [
    "## Building the model\n",
    "The architecture of the model is as follows\n",
    "\n",
    "![model](net.png \"Model Architecture\")"
   ]
  },
  {
   "cell_type": "code",
   "execution_count": null,
   "metadata": {},
   "outputs": [],
   "source": [
    "from tensorflow import keras\n",
    "from tensorflow.keras.layers import Dense, concatenate, Input"
   ]
  },
  {
   "cell_type": "code",
   "execution_count": 9,
   "metadata": {},
   "outputs": [],
   "source": [
    "def create_model():\n",
    "    \"\"\"Returns the model\"\"\"\n",
    "    input_1 = Input(shape=(512,))\n",
    "    dense_1 = Dense(256, activation='relu')(input_1)\n",
    "\n",
    "    input_2 = Input(shape=(512,))\n",
    "    dense_2 = Dense(256, activation='relu')(input_2)\n",
    "\n",
    "    concat = concatenate([dense_1, dense_2])\n",
    "    x = Dense(256, activation='relu')(concat)\n",
    "    x = Dense(128, activation='relu')(x)\n",
    "    x = Dense(64, activation='relu')(x)\n",
    "    outputs = Dense(1, activation='sigmoid')(x)\n",
    "    \n",
    "    model = keras.Model(inputs=[input_1, input_2], outputs=outputs, name='SemanticNet')\n",
    "    return model"
   ]
  },
  {
   "cell_type": "code",
   "execution_count": 10,
   "metadata": {},
   "outputs": [],
   "source": [
    "# build the model\n",
    "model = create_model()"
   ]
  },
  {
   "cell_type": "code",
   "execution_count": 11,
   "metadata": {
    "scrolled": true
   },
   "outputs": [
    {
     "name": "stdout",
     "output_type": "stream",
     "text": [
      "Model: \"SemanticNet\"\n",
      "__________________________________________________________________________________________________\n",
      "Layer (type)                    Output Shape         Param #     Connected to                     \n",
      "==================================================================================================\n",
      "input_3 (InputLayer)            [(None, 512)]        0                                            \n",
      "__________________________________________________________________________________________________\n",
      "input_4 (InputLayer)            [(None, 512)]        0                                            \n",
      "__________________________________________________________________________________________________\n",
      "dense_6 (Dense)                 (None, 256)          131328      input_3[0][0]                    \n",
      "__________________________________________________________________________________________________\n",
      "dense_7 (Dense)                 (None, 256)          131328      input_4[0][0]                    \n",
      "__________________________________________________________________________________________________\n",
      "concatenate_1 (Concatenate)     (None, 512)          0           dense_6[0][0]                    \n",
      "                                                                 dense_7[0][0]                    \n",
      "__________________________________________________________________________________________________\n",
      "dense_8 (Dense)                 (None, 256)          131328      concatenate_1[0][0]              \n",
      "__________________________________________________________________________________________________\n",
      "dense_9 (Dense)                 (None, 128)          32896       dense_8[0][0]                    \n",
      "__________________________________________________________________________________________________\n",
      "dense_10 (Dense)                (None, 64)           8256        dense_9[0][0]                    \n",
      "__________________________________________________________________________________________________\n",
      "dense_11 (Dense)                (None, 1)            65          dense_10[0][0]                   \n",
      "==================================================================================================\n",
      "Total params: 435,201\n",
      "Trainable params: 435,201\n",
      "Non-trainable params: 0\n",
      "__________________________________________________________________________________________________\n"
     ]
    }
   ],
   "source": [
    "model.summary()"
   ]
  },
  {
   "cell_type": "markdown",
   "metadata": {},
   "source": [
    "## Training"
   ]
  },
  {
   "cell_type": "code",
   "execution_count": 51,
   "metadata": {},
   "outputs": [],
   "source": [
    "# compile the model\n",
    "model.compile(optimizer='rmsprop', loss='binary_crossentropy', metrics=['acc'])"
   ]
  },
  {
   "cell_type": "code",
   "execution_count": 5,
   "metadata": {},
   "outputs": [],
   "source": [
    "# setup tensorboard callback\n",
    "log_dir = \"logs\\\\fit\\\\\" + datetime.datetime.now().strftime(\"%Y%m%d-%H%M%S\")\n",
    "tensorboard_callback = tf.keras.callbacks.TensorBoard(log_dir=log_dir, histogram_freq=1)"
   ]
  },
  {
   "cell_type": "code",
   "execution_count": 6,
   "metadata": {},
   "outputs": [],
   "source": [
    "# setup early stopping\n",
    "early_stop = tf.keras.callbacks.EarlyStopping(min_delta=0.02, patience=3)"
   ]
  },
  {
   "cell_type": "code",
   "execution_count": 56,
   "metadata": {
    "scrolled": true
   },
   "outputs": [
    {
     "name": "stdout",
     "output_type": "stream",
     "text": [
      "Train on 200012 samples, validate on 89557 samples\n",
      "Epoch 1/20\n",
      "199872/200012 [============================>.] - ETA: 0s - loss: 0.5155 - acc: 0.7422INFO:tensorflow:Assets written to: checkpoints\\assets\n",
      "200012/200012 [==============================] - 37s 187us/sample - loss: 0.5154 - acc: 0.7422 - val_loss: 0.4530 - val_acc: 0.7832\n",
      "Epoch 2/20\n",
      "200012/200012 [==============================] - 36s 179us/sample - loss: 0.4555 - acc: 0.7870 - val_loss: 0.4643 - val_acc: 0.7910\n",
      "Epoch 3/20\n",
      "200012/200012 [==============================] - 35s 176us/sample - loss: 0.4270 - acc: 0.8064 - val_loss: 0.4701 - val_acc: 0.7766\n",
      "Epoch 4/20\n",
      "200012/200012 [==============================] - 32s 162us/sample - loss: 0.3996 - acc: 0.8222 - val_loss: 0.5148 - val_acc: 0.7950\n",
      "Epoch 5/20\n",
      "199872/200012 [============================>.] - ETA: 0s - loss: 0.3810 - acc: 0.8360INFO:tensorflow:Assets written to: checkpoints\\assets\n",
      "200012/200012 [==============================] - 37s 186us/sample - loss: 0.3810 - acc: 0.8360 - val_loss: 0.3942 - val_acc: 0.8323\n",
      "Epoch 6/20\n",
      "199808/200012 [============================>.] - ETA: 0s - loss: 0.3658 - acc: 0.8448INFO:tensorflow:Assets written to: checkpoints\\assets\n",
      "200012/200012 [==============================] - 40s 202us/sample - loss: 0.3658 - acc: 0.8448 - val_loss: 0.3702 - val_acc: 0.8461\n",
      "Epoch 7/20\n",
      "200012/200012 [==============================] - 35s 175us/sample - loss: 0.3467 - acc: 0.8563 - val_loss: 0.4489 - val_acc: 0.8415\n",
      "Epoch 8/20\n",
      "200012/200012 [==============================] - 35s 173us/sample - loss: 0.3327 - acc: 0.8651 - val_loss: 0.3854 - val_acc: 0.8569\n",
      "Epoch 9/20\n",
      "200012/200012 [==============================] - 32s 161us/sample - loss: 0.3192 - acc: 0.8711 - val_loss: 0.4350 - val_acc: 0.8629\n",
      "Epoch 10/20\n",
      "200012/200012 [==============================] - 36s 182us/sample - loss: 0.3052 - acc: 0.8780 - val_loss: 0.4576 - val_acc: 0.8382\n",
      "Epoch 11/20\n",
      "200012/200012 [==============================] - 33s 166us/sample - loss: 0.2979 - acc: 0.8837 - val_loss: 0.4076 - val_acc: 0.8678\n",
      "Epoch 12/20\n",
      "200012/200012 [==============================] - 32s 161us/sample - loss: 0.2835 - acc: 0.8896 - val_loss: 0.3851 - val_acc: 0.8623\n",
      "Epoch 13/20\n",
      "200012/200012 [==============================] - 33s 166us/sample - loss: 0.2730 - acc: 0.8956 - val_loss: 0.6119 - val_acc: 0.8539\n",
      "Epoch 14/20\n",
      "200012/200012 [==============================] - 33s 167us/sample - loss: 0.2663 - acc: 0.9004 - val_loss: 0.3743 - val_acc: 0.8812\n",
      "Epoch 15/20\n",
      "200012/200012 [==============================] - 33s 165us/sample - loss: 0.2600 - acc: 0.9041 - val_loss: 0.5740 - val_acc: 0.8817\n",
      "Epoch 16/20\n",
      "200012/200012 [==============================] - 34s 168us/sample - loss: 0.2546 - acc: 0.9075 - val_loss: 0.6550 - val_acc: 0.8735\n",
      "Epoch 17/20\n",
      "200012/200012 [==============================] - 34s 168us/sample - loss: 0.2464 - acc: 0.9101 - val_loss: 0.6918 - val_acc: 0.8519\n",
      "Epoch 18/20\n",
      "200012/200012 [==============================] - 32s 160us/sample - loss: 0.2384 - acc: 0.9139 - val_loss: 0.6121 - val_acc: 0.8826\n",
      "Epoch 19/20\n",
      "200012/200012 [==============================] - 32s 162us/sample - loss: 0.2377 - acc: 0.9147 - val_loss: 0.4990 - val_acc: 0.8832\n",
      "Epoch 20/20\n",
      "200012/200012 [==============================] - 35s 173us/sample - loss: 0.2328 - acc: 0.9174 - val_loss: 0.7724 - val_acc: 0.8847\n"
     ]
    }
   ],
   "source": [
    "history = model.fit([X_train_enc[:,0], X_train_enc[:,1]], y_train, \n",
    "                    validation_data=([X_val_enc[:,0], X_val_enc[:,1]], y_val), \n",
    "                    epochs=20, \n",
    "                    callbacks=[tensorboard_callback, early_stop])"
   ]
  },
  {
   "cell_type": "code",
   "execution_count": 74,
   "metadata": {},
   "outputs": [],
   "source": [
    "# save the model weights\n",
    "model.save_weights('model/sem_net_weights.h5')\n",
    "\n",
    "# save the full model (backup)\n",
    "model.save('model/sem_net_full.h5')"
   ]
  },
  {
   "cell_type": "markdown",
   "metadata": {},
   "source": [
    "## Evaluate"
   ]
  },
  {
   "cell_type": "code",
   "execution_count": 12,
   "metadata": {},
   "outputs": [],
   "source": [
    "# load the model weights\n",
    "model.load_weights('model/sem_net_weights.h5')"
   ]
  },
  {
   "cell_type": "code",
   "execution_count": 13,
   "metadata": {},
   "outputs": [],
   "source": [
    "from sklearn.metrics import precision_recall_fscore_support, accuracy_score"
   ]
  },
  {
   "cell_type": "code",
   "execution_count": 39,
   "metadata": {},
   "outputs": [],
   "source": [
    "def evaluate(X_test, y_test):\n",
    "    \"\"\"Evaluates and prints the Evaluation Results (Accuracy, Precision, Recall, F1)\"\"\"\n",
    "    y_pred = model.predict([X_test[:,0], X_test[:,1]])\n",
    "    y_pred = np.round(y_pred)\n",
    "    \n",
    "    accuracy = accuracy_score(y_test, y_pred)\n",
    "    results = precision_recall_fscore_support(y_test, y_pred, average='binary')\n",
    "    print('Acccuracy:', accuracy)\n",
    "    print('Precision:', results[0])\n",
    "    print('Recall:', results[1])\n",
    "    print('F1 Score:', results[2])"
   ]
  },
  {
   "cell_type": "code",
   "execution_count": 17,
   "metadata": {},
   "outputs": [
    {
     "name": "stdout",
     "output_type": "stream",
     "text": [
      "Acccuracy: 0.8853801281529796\n",
      "Precision: 0.8507611026834755\n",
      "Recall: 0.9345515141067632\n",
      "F1 Score: 0.8906900328587076\n"
     ]
    }
   ],
   "source": [
    "# evaluate the model against test data\n",
    "evaluate(X_test_enc, y_test)"
   ]
  },
  {
   "cell_type": "code",
   "execution_count": 40,
   "metadata": {},
   "outputs": [],
   "source": [
    "def predict(text_1, text_2, model, encoder):\n",
    "    \"\"\"Returns the binary prediction or two strings of texts\n",
    "    Args:\n",
    "        text_1 (str): text A\n",
    "        text_2 (str): text B\n",
    "        \n",
    "    Returns:\n",
    "        pred (float): prediction value in range 0-1\n",
    "    \"\"\"    \n",
    "    # get the emebeddings\n",
    "    embeddings = encoder([text_1, text_2])\n",
    "    embeddings = np.expand_dims(embeddings, axis=0)\n",
    "    \n",
    "    # make predictions\n",
    "    pred = model.predict([embeddings[:,0], embeddings[:,1]])\n",
    "    return float(pred)"
   ]
  },
  {
   "cell_type": "code",
   "execution_count": 30,
   "metadata": {},
   "outputs": [],
   "source": [
    "# sample pieces of text\n",
    "text_1 = \"\"\"The woman cried out for help because a snake had trespassed into her house.\"\"\"\n",
    "text_2 = \"\"\"The old woman was happy because she got a precious pearl necklace.\"\"\"\n",
    "text_3 = \"\"\"The lady was happy as she got a necklace\"\"\""
   ]
  },
  {
   "cell_type": "code",
   "execution_count": 29,
   "metadata": {},
   "outputs": [
    {
     "data": {
      "text/plain": [
       "0.001013148226775229"
      ]
     },
     "execution_count": 29,
     "metadata": {},
     "output_type": "execute_result"
    }
   ],
   "source": [
    "# checking similarity between text_1 and text_3\n",
    "predict(text_1, text_3, model, encoder)"
   ]
  },
  {
   "cell_type": "code",
   "execution_count": 31,
   "metadata": {},
   "outputs": [
    {
     "data": {
      "text/plain": [
       "1.0"
      ]
     },
     "execution_count": 31,
     "metadata": {},
     "output_type": "execute_result"
    }
   ],
   "source": [
    "# checking similarity between text_2 and text_3\n",
    "predict(text_2, text_3, model, encoder)"
   ]
  },
  {
   "cell_type": "code",
   "execution_count": null,
   "metadata": {},
   "outputs": [],
   "source": []
  }
 ],
 "metadata": {
  "kernelspec": {
   "display_name": "Python 3",
   "language": "python",
   "name": "python3"
  },
  "language_info": {
   "codemirror_mode": {
    "name": "ipython",
    "version": 3
   },
   "file_extension": ".py",
   "mimetype": "text/x-python",
   "name": "python",
   "nbconvert_exporter": "python",
   "pygments_lexer": "ipython3",
   "version": "3.7.5"
  }
 },
 "nbformat": 4,
 "nbformat_minor": 4
}
